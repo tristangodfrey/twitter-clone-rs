{
    "cells": [
        {
            "cell_type": "markdown",
            "source": [
                "# Twitter Clone Domain\n",
                "\n",
                "The fundamental part of the system is a User, the user can `create()` many `Tweet` objects,\n",
                "a tweet object can be `liked()` by other Users. A Tweet has three kinds; regular, reply, and retweet.\n",
                "\n",
                "A user has a `ProfilePage`, which shows tweets belonging to the user & the `ProfileInformation` object.\n",
                "\n",
                "Certain objects (such as `ProfilePage` and `Tweet`) may have 0..n associated media objects.\n",
                "\n",
                "This `Media` object contains a file (limited to video/image files), and an optional `kind` (for cases in which different media objects\n",
                "serve different purposes, such as a bio image/profile picture). In the case of a `Tweet` with `Media`, the associated `Media` objects\n",
                "have no kind. They are implicitly seen as \"attachments\".\n",
                "\n",
                "A user has a profile picture, and a bio, and a profile background image.\n",
                "\n",
                "\n",
                "\n"
            ],
            "metadata": {}
        }
    ],
    "metadata": {
        "orig_nbformat": 4,
        "language_info": {
            "name": "plaintext"
        }
    },
    "nbformat": 4,
    "nbformat_minor": 2
}